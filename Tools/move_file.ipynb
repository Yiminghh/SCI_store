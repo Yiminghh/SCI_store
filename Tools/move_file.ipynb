{
 "cells": [
  {
   "cell_type": "code",
   "execution_count": 1,
   "metadata": {
    "collapsed": true,
    "pycharm": {
     "name": "#%%\n"
    }
   },
   "outputs": [],
   "source": [
    "# 拷贝文件到指定路径\n",
    "import os\n",
    "import shutil\n",
    "def mycopyfile(srcfile,dstpath):                       # 复制函数\n",
    "    if not os.path.isfile(srcfile):\n",
    "        print (\"%s not exist!\"%(srcfile))\n",
    "    else:\n",
    "        fpath,fname=os.path.split(srcfile)             # 分离文件名和路径\n",
    "        if not os.path.exists(dstpath):\n",
    "            os.makedirs(dstpath)                       # 创建路径\n",
    "        shutil.copy(srcfile, os.path.join(dstpath , fname))          # 复制文件\n",
    "        print (\"copy %s -> %s\"%(srcfile, os.path.join(dstpath , fname)))"
   ]
  },
  {
   "cell_type": "code",
   "execution_count": 39,
   "outputs": [
    {
     "name": "stdout",
     "output_type": "stream",
     "text": [
      "copy /Users/hym/Downloads/网络纠缠/NetEntanglement/PH/BPD_plot_gcc.txt -> ../results/PH/BPD_plot_gcc.txt\n",
      "copy /Users/hym/Downloads/网络纠缠/NetEntanglement/PH/NE_plot_gcc.txt -> ../results/PH/NE_plot_gcc.txt\n",
      "copy /Users/hym/Downloads/网络纠缠/NetEntanglement/PH/GNDR_set_gcc.txt -> ../results/PH/GNDR_set_gcc.txt\n",
      "copy /Users/hym/Downloads/网络纠缠/NetEntanglement/PH/CoreHD_plot_gcc.txt -> ../results/PH/CoreHD_plot_gcc.txt\n",
      "copy /Users/hym/Downloads/网络纠缠/NetEntanglement/PH/MinSum_plot_gcc.txt -> ../results/PH/MinSum_plot_gcc.txt\n",
      "copy /Users/hym/Downloads/网络纠缠/NetEntanglement/PH/betweeness_plot_gcc.txt -> ../results/PH/betweeness_plot_gcc.txt\n"
     ]
    }
   ],
   "source": [
    "netname = 'PH'\n",
    "file_name = ['BPD_plot_gcc.txt','NE_plot_gcc.txt','GNDR_set_gcc.txt','CoreHD_plot_gcc.txt','MinSum_plot_gcc.txt','betweeness_plot_gcc.txt']\n",
    "src_path = os.path.join('/Users/hym/Downloads/网络纠缠/NetEntanglement', netname)\n",
    "target_path = os.path.join('..','results', netname)\n",
    "for file in file_name:\n",
    "    mycopyfile(os.path.join(src_path,file), target_path)"
   ],
   "metadata": {
    "collapsed": false,
    "pycharm": {
     "name": "#%%\n"
    }
   }
  },
  {
   "cell_type": "code",
   "execution_count": 12,
   "outputs": [
    {
     "name": "stdout",
     "output_type": "stream",
     "text": [
      "copy E:\\FeiShuDownloads\\Brain600\\600spar10w\\29538\\29538.txt -> D:\\PyCharmProject\\HIMnet\\higher-order entropy\\data\\brain\\600spar10w\\29538.txt\n",
      "copy E:\\FeiShuDownloads\\Brain600\\600spar10w\\29539\\29539.txt -> D:\\PyCharmProject\\HIMnet\\higher-order entropy\\data\\brain\\600spar10w\\29539.txt\n",
      "copy E:\\FeiShuDownloads\\Brain600\\600spar10w\\29540\\29540.txt -> D:\\PyCharmProject\\HIMnet\\higher-order entropy\\data\\brain\\600spar10w\\29540.txt\n",
      "copy E:\\FeiShuDownloads\\Brain600\\600spar10w\\29541\\29541.txt -> D:\\PyCharmProject\\HIMnet\\higher-order entropy\\data\\brain\\600spar10w\\29541.txt\n",
      "copy E:\\FeiShuDownloads\\Brain600\\600spar10w\\29542\\29542.txt -> D:\\PyCharmProject\\HIMnet\\higher-order entropy\\data\\brain\\600spar10w\\29542.txt\n",
      "copy E:\\FeiShuDownloads\\Brain600\\600spar10w\\29543\\29543.txt -> D:\\PyCharmProject\\HIMnet\\higher-order entropy\\data\\brain\\600spar10w\\29543.txt\n",
      "copy E:\\FeiShuDownloads\\Brain600\\600spar10w\\29544\\29544.txt -> D:\\PyCharmProject\\HIMnet\\higher-order entropy\\data\\brain\\600spar10w\\29544.txt\n",
      "copy E:\\FeiShuDownloads\\Brain600\\600spar10w\\29545\\29545.txt -> D:\\PyCharmProject\\HIMnet\\higher-order entropy\\data\\brain\\600spar10w\\29545.txt\n",
      "copy E:\\FeiShuDownloads\\Brain600\\600spar10w\\29546\\29546.txt -> D:\\PyCharmProject\\HIMnet\\higher-order entropy\\data\\brain\\600spar10w\\29546.txt\n",
      "copy E:\\FeiShuDownloads\\Brain600\\600spar10w\\29547\\29547.txt -> D:\\PyCharmProject\\HIMnet\\higher-order entropy\\data\\brain\\600spar10w\\29547.txt\n",
      "copy E:\\FeiShuDownloads\\Brain600\\600spar10w\\29548\\29548.txt -> D:\\PyCharmProject\\HIMnet\\higher-order entropy\\data\\brain\\600spar10w\\29548.txt\n",
      "copy E:\\FeiShuDownloads\\Brain600\\600spar10w\\29549\\29549.txt -> D:\\PyCharmProject\\HIMnet\\higher-order entropy\\data\\brain\\600spar10w\\29549.txt\n",
      "copy E:\\FeiShuDownloads\\Brain600\\600spar10w\\29550\\29550.txt -> D:\\PyCharmProject\\HIMnet\\higher-order entropy\\data\\brain\\600spar10w\\29550.txt\n",
      "copy E:\\FeiShuDownloads\\Brain600\\600spar10w\\29551\\29551.txt -> D:\\PyCharmProject\\HIMnet\\higher-order entropy\\data\\brain\\600spar10w\\29551.txt\n",
      "copy E:\\FeiShuDownloads\\Brain600\\600spar10w\\29552\\29552.txt -> D:\\PyCharmProject\\HIMnet\\higher-order entropy\\data\\brain\\600spar10w\\29552.txt\n",
      "copy E:\\FeiShuDownloads\\Brain600\\600spar10w\\29553\\29553.txt -> D:\\PyCharmProject\\HIMnet\\higher-order entropy\\data\\brain\\600spar10w\\29553.txt\n",
      "copy E:\\FeiShuDownloads\\Brain600\\600spar10w\\29554\\29554.txt -> D:\\PyCharmProject\\HIMnet\\higher-order entropy\\data\\brain\\600spar10w\\29554.txt\n",
      "copy E:\\FeiShuDownloads\\Brain600\\600spar10w\\29555\\29555.txt -> D:\\PyCharmProject\\HIMnet\\higher-order entropy\\data\\brain\\600spar10w\\29555.txt\n",
      "copy E:\\FeiShuDownloads\\Brain600\\600spar10w\\29556\\29556.txt -> D:\\PyCharmProject\\HIMnet\\higher-order entropy\\data\\brain\\600spar10w\\29556.txt\n",
      "copy E:\\FeiShuDownloads\\Brain600\\600spar10w\\29557\\29557.txt -> D:\\PyCharmProject\\HIMnet\\higher-order entropy\\data\\brain\\600spar10w\\29557.txt\n",
      "copy E:\\FeiShuDownloads\\Brain600\\600spar10w\\29558\\29558.txt -> D:\\PyCharmProject\\HIMnet\\higher-order entropy\\data\\brain\\600spar10w\\29558.txt\n",
      "copy E:\\FeiShuDownloads\\Brain600\\600spar10w\\29559\\29559.txt -> D:\\PyCharmProject\\HIMnet\\higher-order entropy\\data\\brain\\600spar10w\\29559.txt\n",
      "copy E:\\FeiShuDownloads\\Brain600\\600spar10w\\29560\\29560.txt -> D:\\PyCharmProject\\HIMnet\\higher-order entropy\\data\\brain\\600spar10w\\29560.txt\n",
      "copy E:\\FeiShuDownloads\\Brain600\\600spar10w\\29561\\29561.txt -> D:\\PyCharmProject\\HIMnet\\higher-order entropy\\data\\brain\\600spar10w\\29561.txt\n",
      "copy E:\\FeiShuDownloads\\Brain600\\600spar10w\\29562\\29562.txt -> D:\\PyCharmProject\\HIMnet\\higher-order entropy\\data\\brain\\600spar10w\\29562.txt\n",
      "copy E:\\FeiShuDownloads\\Brain600\\600spar10w\\29563\\29563.txt -> D:\\PyCharmProject\\HIMnet\\higher-order entropy\\data\\brain\\600spar10w\\29563.txt\n",
      "copy E:\\FeiShuDownloads\\Brain600\\600spar10w\\29564\\29564.txt -> D:\\PyCharmProject\\HIMnet\\higher-order entropy\\data\\brain\\600spar10w\\29564.txt\n",
      "copy E:\\FeiShuDownloads\\Brain600\\600spar10w\\29565\\29565.txt -> D:\\PyCharmProject\\HIMnet\\higher-order entropy\\data\\brain\\600spar10w\\29565.txt\n",
      "copy E:\\FeiShuDownloads\\Brain600\\600spar10w\\29566\\29566.txt -> D:\\PyCharmProject\\HIMnet\\higher-order entropy\\data\\brain\\600spar10w\\29566.txt\n",
      "copy E:\\FeiShuDownloads\\Brain600\\600spar10w\\29567\\29567.txt -> D:\\PyCharmProject\\HIMnet\\higher-order entropy\\data\\brain\\600spar10w\\29567.txt\n",
      "copy E:\\FeiShuDownloads\\Brain600\\600spar10w\\29568\\29568.txt -> D:\\PyCharmProject\\HIMnet\\higher-order entropy\\data\\brain\\600spar10w\\29568.txt\n",
      "copy E:\\FeiShuDownloads\\Brain600\\600spar10w\\29569\\29569.txt -> D:\\PyCharmProject\\HIMnet\\higher-order entropy\\data\\brain\\600spar10w\\29569.txt\n",
      "copy E:\\FeiShuDownloads\\Brain600\\600spar10w\\29570\\29570.txt -> D:\\PyCharmProject\\HIMnet\\higher-order entropy\\data\\brain\\600spar10w\\29570.txt\n",
      "copy E:\\FeiShuDownloads\\Brain600\\600spar10w\\29571\\29571.txt -> D:\\PyCharmProject\\HIMnet\\higher-order entropy\\data\\brain\\600spar10w\\29571.txt\n",
      "copy E:\\FeiShuDownloads\\Brain600\\600spar10w\\29572\\29572.txt -> D:\\PyCharmProject\\HIMnet\\higher-order entropy\\data\\brain\\600spar10w\\29572.txt\n",
      "copy E:\\FeiShuDownloads\\Brain600\\600spar10w\\29573\\29573.txt -> D:\\PyCharmProject\\HIMnet\\higher-order entropy\\data\\brain\\600spar10w\\29573.txt\n",
      "copy E:\\FeiShuDownloads\\Brain600\\600spar10w\\29574\\29574.txt -> D:\\PyCharmProject\\HIMnet\\higher-order entropy\\data\\brain\\600spar10w\\29574.txt\n",
      "copy E:\\FeiShuDownloads\\Brain600\\600spar10w\\29575\\29575.txt -> D:\\PyCharmProject\\HIMnet\\higher-order entropy\\data\\brain\\600spar10w\\29575.txt\n",
      "copy E:\\FeiShuDownloads\\Brain600\\600spar10w\\29576\\29576.txt -> D:\\PyCharmProject\\HIMnet\\higher-order entropy\\data\\brain\\600spar10w\\29576.txt\n",
      "copy E:\\FeiShuDownloads\\Brain600\\600spar10w\\29577\\29577.txt -> D:\\PyCharmProject\\HIMnet\\higher-order entropy\\data\\brain\\600spar10w\\29577.txt\n"
     ]
    }
   ],
   "source": [
    "\n",
    "for seq in range(29538,29577+1):\n",
    "    #file_name = 'edges.txt'\n",
    "    file_name = str(seq)+'.txt'\n",
    "    src_path = os.path.join('E:\\\\FeiShuDownloads\\\\Brain600','600spar10w',str(seq))\n",
    "    #target_path = os.path.join('..','new_results','brain','600spar4',str(seq))\n",
    "    target_path = os.path.join('D:\\\\PyCharmProject\\\\HIMnet\\\\higher-order entropy','data','brain','600spar10w')\n",
    "\n",
    "    mycopyfile(os.path.join(src_path,file_name), target_path)"
   ],
   "metadata": {
    "collapsed": false,
    "pycharm": {
     "name": "#%%\n"
    }
   }
  },
  {
   "cell_type": "code",
   "execution_count": null,
   "outputs": [],
   "source": [],
   "metadata": {
    "collapsed": false,
    "pycharm": {
     "name": "#%%\n"
    }
   }
  }
 ],
 "metadata": {
  "kernelspec": {
   "display_name": "Python 3",
   "language": "python",
   "name": "python3"
  },
  "language_info": {
   "codemirror_mode": {
    "name": "ipython",
    "version": 2
   },
   "file_extension": ".py",
   "mimetype": "text/x-python",
   "name": "python",
   "nbconvert_exporter": "python",
   "pygments_lexer": "ipython2",
   "version": "2.7.6"
  }
 },
 "nbformat": 4,
 "nbformat_minor": 0
}